{
 "cells": [
  {
   "cell_type": "markdown",
   "metadata": {},
   "source": [
    "#                 STATISTICAL APPROACH TO HOME PREDICTION DATA"
   ]
  },
  {
   "cell_type": "markdown",
   "metadata": {},
   "source": [
    "    In this chapter, I will continue to my capstone project about House predictions\n",
    "    approaching statistically way.Here are my three different observations:\n",
    "        1) Comparing average price of homes with 2 and 3 bedrooms.\n",
    "        2) Determining average price in Issaquah greater than average price in Kirkland or not\n",
    "        3) Probability of a home hired by a family just moves into this area.\n",
    "    Ok let`s get start with the party."
   ]
  },
  {
   "cell_type": "code",
   "execution_count": 1,
   "metadata": {},
   "outputs": [],
   "source": [
    "import pandas as pd\n",
    "import numpy as np\n",
    "import matplotlib.pyplot as plt\n",
    "import seaborn as sns\n",
    "from numpy.random import seed\n",
    "from scipy.stats import norm\n",
    "from scipy.special import ndtr as ndtr"
   ]
  },
  {
   "cell_type": "code",
   "execution_count": 2,
   "metadata": {},
   "outputs": [
    {
     "data": {
      "text/html": [
       "<div>\n",
       "<style scoped>\n",
       "    .dataframe tbody tr th:only-of-type {\n",
       "        vertical-align: middle;\n",
       "    }\n",
       "\n",
       "    .dataframe tbody tr th {\n",
       "        vertical-align: top;\n",
       "    }\n",
       "\n",
       "    .dataframe thead th {\n",
       "        text-align: right;\n",
       "    }\n",
       "</style>\n",
       "<table border=\"1\" class=\"dataframe\">\n",
       "  <thead>\n",
       "    <tr style=\"text-align: right;\">\n",
       "      <th></th>\n",
       "      <th>date</th>\n",
       "      <th>price</th>\n",
       "      <th>bedrooms</th>\n",
       "      <th>bathrooms</th>\n",
       "      <th>sqft_living</th>\n",
       "      <th>sqft_lot</th>\n",
       "      <th>floors</th>\n",
       "      <th>waterfront</th>\n",
       "      <th>view</th>\n",
       "      <th>condition</th>\n",
       "      <th>sqft_above</th>\n",
       "      <th>sqft_basement</th>\n",
       "      <th>yr_built</th>\n",
       "      <th>yr_renovated</th>\n",
       "      <th>street</th>\n",
       "      <th>city</th>\n",
       "      <th>statezip</th>\n",
       "      <th>country</th>\n",
       "    </tr>\n",
       "  </thead>\n",
       "  <tbody>\n",
       "    <tr>\n",
       "      <th>0</th>\n",
       "      <td>2014-05-02 00:00:00</td>\n",
       "      <td>313000.0</td>\n",
       "      <td>3.0</td>\n",
       "      <td>1.50</td>\n",
       "      <td>1340</td>\n",
       "      <td>7912</td>\n",
       "      <td>1.5</td>\n",
       "      <td>0</td>\n",
       "      <td>0</td>\n",
       "      <td>3</td>\n",
       "      <td>1340</td>\n",
       "      <td>0</td>\n",
       "      <td>1955</td>\n",
       "      <td>2005</td>\n",
       "      <td>18810 Densmore Ave N</td>\n",
       "      <td>Shoreline</td>\n",
       "      <td>WA 98133</td>\n",
       "      <td>USA</td>\n",
       "    </tr>\n",
       "    <tr>\n",
       "      <th>1</th>\n",
       "      <td>2014-05-02 00:00:00</td>\n",
       "      <td>2384000.0</td>\n",
       "      <td>5.0</td>\n",
       "      <td>2.50</td>\n",
       "      <td>3650</td>\n",
       "      <td>9050</td>\n",
       "      <td>2.0</td>\n",
       "      <td>0</td>\n",
       "      <td>4</td>\n",
       "      <td>5</td>\n",
       "      <td>3370</td>\n",
       "      <td>280</td>\n",
       "      <td>1921</td>\n",
       "      <td>0</td>\n",
       "      <td>709 W Blaine St</td>\n",
       "      <td>Seattle</td>\n",
       "      <td>WA 98119</td>\n",
       "      <td>USA</td>\n",
       "    </tr>\n",
       "    <tr>\n",
       "      <th>2</th>\n",
       "      <td>2014-05-02 00:00:00</td>\n",
       "      <td>342000.0</td>\n",
       "      <td>3.0</td>\n",
       "      <td>2.00</td>\n",
       "      <td>1930</td>\n",
       "      <td>11947</td>\n",
       "      <td>1.0</td>\n",
       "      <td>0</td>\n",
       "      <td>0</td>\n",
       "      <td>4</td>\n",
       "      <td>1930</td>\n",
       "      <td>0</td>\n",
       "      <td>1966</td>\n",
       "      <td>0</td>\n",
       "      <td>26206-26214 143rd Ave SE</td>\n",
       "      <td>Kent</td>\n",
       "      <td>WA 98042</td>\n",
       "      <td>USA</td>\n",
       "    </tr>\n",
       "    <tr>\n",
       "      <th>3</th>\n",
       "      <td>2014-05-02 00:00:00</td>\n",
       "      <td>420000.0</td>\n",
       "      <td>3.0</td>\n",
       "      <td>2.25</td>\n",
       "      <td>2000</td>\n",
       "      <td>8030</td>\n",
       "      <td>1.0</td>\n",
       "      <td>0</td>\n",
       "      <td>0</td>\n",
       "      <td>4</td>\n",
       "      <td>1000</td>\n",
       "      <td>1000</td>\n",
       "      <td>1963</td>\n",
       "      <td>0</td>\n",
       "      <td>857 170th Pl NE</td>\n",
       "      <td>Bellevue</td>\n",
       "      <td>WA 98008</td>\n",
       "      <td>USA</td>\n",
       "    </tr>\n",
       "    <tr>\n",
       "      <th>4</th>\n",
       "      <td>2014-05-02 00:00:00</td>\n",
       "      <td>550000.0</td>\n",
       "      <td>4.0</td>\n",
       "      <td>2.50</td>\n",
       "      <td>1940</td>\n",
       "      <td>10500</td>\n",
       "      <td>1.0</td>\n",
       "      <td>0</td>\n",
       "      <td>0</td>\n",
       "      <td>4</td>\n",
       "      <td>1140</td>\n",
       "      <td>800</td>\n",
       "      <td>1976</td>\n",
       "      <td>1992</td>\n",
       "      <td>9105 170th Ave NE</td>\n",
       "      <td>Redmond</td>\n",
       "      <td>WA 98052</td>\n",
       "      <td>USA</td>\n",
       "    </tr>\n",
       "  </tbody>\n",
       "</table>\n",
       "</div>"
      ],
      "text/plain": [
       "                  date      price  bedrooms  bathrooms  sqft_living  sqft_lot  \\\n",
       "0  2014-05-02 00:00:00   313000.0       3.0       1.50         1340      7912   \n",
       "1  2014-05-02 00:00:00  2384000.0       5.0       2.50         3650      9050   \n",
       "2  2014-05-02 00:00:00   342000.0       3.0       2.00         1930     11947   \n",
       "3  2014-05-02 00:00:00   420000.0       3.0       2.25         2000      8030   \n",
       "4  2014-05-02 00:00:00   550000.0       4.0       2.50         1940     10500   \n",
       "\n",
       "   floors  waterfront  view  condition  sqft_above  sqft_basement  yr_built  \\\n",
       "0     1.5           0     0          3        1340              0      1955   \n",
       "1     2.0           0     4          5        3370            280      1921   \n",
       "2     1.0           0     0          4        1930              0      1966   \n",
       "3     1.0           0     0          4        1000           1000      1963   \n",
       "4     1.0           0     0          4        1140            800      1976   \n",
       "\n",
       "   yr_renovated                    street       city  statezip country  \n",
       "0          2005      18810 Densmore Ave N  Shoreline  WA 98133     USA  \n",
       "1             0           709 W Blaine St    Seattle  WA 98119     USA  \n",
       "2             0  26206-26214 143rd Ave SE       Kent  WA 98042     USA  \n",
       "3             0           857 170th Pl NE   Bellevue  WA 98008     USA  \n",
       "4          1992         9105 170th Ave NE    Redmond  WA 98052     USA  "
      ]
     },
     "execution_count": 2,
     "metadata": {},
     "output_type": "execute_result"
    }
   ],
   "source": [
    "house = pd.read_csv('data.csv')\n",
    "house.head()"
   ]
  },
  {
   "cell_type": "markdown",
   "metadata": {},
   "source": [
    "#  1)                                   COMPARING AVERAGE PRICE"
   ]
  },
  {
   "cell_type": "markdown",
   "metadata": {},
   "source": [
    "    Inquiry:  \n",
    "      A mortgage company wants to test if there is a significant difference between \n",
    "      the mean price of homes with 3 bedrooms and\n",
    "      the mean price of homes with 2 bedrooms in given dataset.\n",
    "      (significance level=0.05)\n",
    "\n",
    "      Let M2 and M3 be mean of homes that have 3 bedrooms and 2 bedrrooms respectively.\n",
    "\n",
    "      H0: M2 = M3 (M2 - M3 = 0)\n",
    "      H1: M2 ≠ M3 (M2 - M3 ≠ 0)\n"
   ]
  },
  {
   "cell_type": "markdown",
   "metadata": {},
   "source": [
    "# Examining Houses with 3 Bedrooms"
   ]
  },
  {
   "cell_type": "code",
   "execution_count": 3,
   "metadata": {},
   "outputs": [
    {
     "data": {
      "text/plain": [
       "2032"
      ]
     },
     "execution_count": 3,
     "metadata": {},
     "output_type": "execute_result"
    }
   ],
   "source": [
    "len(house[house['bedrooms']==3])"
   ]
  },
  {
   "cell_type": "code",
   "execution_count": 4,
   "metadata": {},
   "outputs": [],
   "source": [
    "h3 = house[house['bedrooms']==3]\n",
    "house_3 = h3['price']"
   ]
  },
  {
   "cell_type": "code",
   "execution_count": 108,
   "metadata": {},
   "outputs": [
    {
     "data": {
      "text/plain": [
       "488613.02"
      ]
     },
     "execution_count": 108,
     "metadata": {},
     "output_type": "execute_result"
    }
   ],
   "source": [
    "round(np.mean(house_3),2)"
   ]
  },
  {
   "cell_type": "code",
   "execution_count": 109,
   "metadata": {},
   "outputs": [
    {
     "data": {
      "text/plain": [
       "690338.86"
      ]
     },
     "execution_count": 109,
     "metadata": {},
     "output_type": "execute_result"
    }
   ],
   "source": [
    "round(np.std(house_3),2)"
   ]
  },
  {
   "cell_type": "markdown",
   "metadata": {},
   "source": [
    "# Examining Houses with 2 Bedrooms"
   ]
  },
  {
   "cell_type": "code",
   "execution_count": 7,
   "metadata": {},
   "outputs": [
    {
     "data": {
      "text/plain": [
       "566"
      ]
     },
     "execution_count": 7,
     "metadata": {},
     "output_type": "execute_result"
    }
   ],
   "source": [
    "len(house[house['bedrooms']==2])"
   ]
  },
  {
   "cell_type": "code",
   "execution_count": 8,
   "metadata": {},
   "outputs": [],
   "source": [
    "h2 = house[house['bedrooms']==2]\n",
    "house_2 = h2['price']"
   ]
  },
  {
   "cell_type": "code",
   "execution_count": 106,
   "metadata": {},
   "outputs": [
    {
     "data": {
      "text/plain": [
       "391621.92"
      ]
     },
     "execution_count": 106,
     "metadata": {},
     "output_type": "execute_result"
    }
   ],
   "source": [
    "round(np.mean(house_2),2)"
   ]
  },
  {
   "cell_type": "code",
   "execution_count": 107,
   "metadata": {},
   "outputs": [
    {
     "data": {
      "text/plain": [
       "194947.17"
      ]
     },
     "execution_count": 107,
     "metadata": {},
     "output_type": "execute_result"
    }
   ],
   "source": [
    "round(np.std(house_2),2)"
   ]
  },
  {
   "cell_type": "markdown",
   "metadata": {},
   "source": [
    "let`s take a sample from both house type that contains 50 houses from M2 and M3 respectively.(50<(566/10)),(50<(2032/10))\n",
    "For the sake of 10% rule being independent, 50 is a plausible value which is \n",
    "less than 10% of number of houses that have 2 and 3 bedrooms."
   ]
  },
  {
   "cell_type": "code",
   "execution_count": 11,
   "metadata": {},
   "outputs": [],
   "source": [
    "# I am finding mean and standard deviation of the sample respectively for houses with 2 bedrooms."
   ]
  },
  {
   "cell_type": "code",
   "execution_count": 12,
   "metadata": {},
   "outputs": [
    {
     "data": {
      "text/plain": [
       "425348.56"
      ]
     },
     "execution_count": 12,
     "metadata": {},
     "output_type": "execute_result"
    }
   ],
   "source": [
    "seed(35)\n",
    "sample_2 = np.random.choice(house_2,50)\n",
    "sample_mean_2 = np.mean(sample_2)\n",
    "round(sample_mean_2,2)"
   ]
  },
  {
   "cell_type": "code",
   "execution_count": 98,
   "metadata": {},
   "outputs": [
    {
     "data": {
      "text/plain": [
       "27569.69"
      ]
     },
     "execution_count": 98,
     "metadata": {},
     "output_type": "execute_result"
    }
   ],
   "source": [
    "seed(35)\n",
    "sample_std_2 = np.std(house_2)/(50**0.5)\n",
    "round(sample_std_2,2)"
   ]
  },
  {
   "cell_type": "code",
   "execution_count": 14,
   "metadata": {},
   "outputs": [],
   "source": [
    "#I will find mean and standard deviation of the sample belongs to houses with 3 bedrooms.\n",
    "# For the sake of 10% independent rule, I will choose 50 houses.(50<(2032/10))"
   ]
  },
  {
   "cell_type": "code",
   "execution_count": 15,
   "metadata": {},
   "outputs": [
    {
     "data": {
      "text/plain": [
       "539394.89"
      ]
     },
     "execution_count": 15,
     "metadata": {},
     "output_type": "execute_result"
    }
   ],
   "source": [
    "seed(35)\n",
    "sample_3 = np.random.choice(house_3,50)\n",
    "sample_mean_3 = np.mean(sample_3)\n",
    "round(sample_mean_3,2)"
   ]
  },
  {
   "cell_type": "code",
   "execution_count": 99,
   "metadata": {},
   "outputs": [
    {
     "data": {
      "text/plain": [
       "97628.66"
      ]
     },
     "execution_count": 99,
     "metadata": {},
     "output_type": "execute_result"
    }
   ],
   "source": [
    "seed(35)\n",
    "sample_std_3 = np.std(house_3)/(50**0.5)\n",
    "round(sample_std_3,2)"
   ]
  },
  {
   "cell_type": "markdown",
   "metadata": {},
   "source": [
    "Now let`s apply z test"
   ]
  },
  {
   "cell_type": "code",
   "execution_count": 104,
   "metadata": {},
   "outputs": [
    {
     "data": {
      "text/plain": [
       "2.99"
      ]
     },
     "execution_count": 104,
     "metadata": {},
     "output_type": "execute_result"
    }
   ],
   "source": [
    "z = (sample_mean_3-sample_mean_2)/np.sqrt(np.sum((sample_std_2**2/50**0.5)+(sample_std_3**2/50**0.5)))\n",
    "round(z,2)"
   ]
  },
  {
   "cell_type": "code",
   "execution_count": 105,
   "metadata": {},
   "outputs": [
    {
     "data": {
      "text/plain": [
       "1.96"
      ]
     },
     "execution_count": 105,
     "metadata": {},
     "output_type": "execute_result"
    }
   ],
   "source": [
    "#significance level = 0.05\n",
    "z_critical = norm.ppf(0.975)\n",
    "round(z_critical,2)"
   ]
  },
  {
   "cell_type": "markdown",
   "metadata": {},
   "source": [
    "\n",
    "# RESULT"
   ]
  },
  {
   "cell_type": "markdown",
   "metadata": {},
   "source": [
    "    In this frequentis statistic,z value is way beyond z_critical value so we have to reject null hyptohesis(M3-M2=0) \n",
    "    which we accept alternative hypothesis. It indicates that there is a significance difference between mean price of homes       with 2 bedrooms and mean price of homes with 3 bedrooms."
   ]
  },
  {
   "cell_type": "markdown",
   "metadata": {},
   "source": [
    "    Now let`s form a normal distribution graph )"
   ]
  },
  {
   "cell_type": "code",
   "execution_count": 111,
   "metadata": {},
   "outputs": [
    {
     "data": {
      "image/png": "[encoded data removed]",
      "text/plain": [
       "<Figure size 432x288 with 1 Axes>"
      ]
     },
     "metadata": {
      "needs_background": "light"
     },
     "output_type": "display_data"
    }
   ],
   "source": [
    "seed(35)\n",
    "a = np.random.normal((488613.02-391621.92)/10000,np.sqrt(((690338.86)**2/50)+(194947.17)**2/50)/10000,50)\n",
    "_ = plt.hist(a,bins = 20,rwidth = 0.85)\n",
    "_ = plt.xlabel('(Price in $ 10k)')\n",
    "_ = plt.ylabel('Frequency')\n",
    "_ = plt.title('Price Differences Between 3 bedrooms and 2 bedrooms')\n",
    "plt.show()"
   ]
  },
  {
   "cell_type": "markdown",
   "metadata": {},
   "source": [
    "# 2) Is average price in Issaquah greater than average price in Kirkland?"
   ]
  },
  {
   "cell_type": "code",
   "execution_count": 88,
   "metadata": {},
   "outputs": [
    {
     "data": {
      "text/plain": [
       "Seattle     1573\n",
       "Renton       293\n",
       "Bellevue     286\n",
       "Redmond      235\n",
       "Kirkland     187\n",
       "Issaquah     187\n",
       "Kent         185\n",
       "Name: city, dtype: int64"
      ]
     },
     "execution_count": 88,
     "metadata": {},
     "output_type": "execute_result"
    }
   ],
   "source": [
    "#Here is the list of cities in Washington\n",
    "city = house['city']\n",
    "city_num = city.value_counts()\n",
    "city_num.head(7)"
   ]
  },
  {
   "cell_type": "markdown",
   "metadata": {},
   "source": [
    "We will inquiry house prices in two same size cities, \n",
    "Kirkland and Issaquah(both city has 187 homes)\n",
    "if average price of homes in Issaquah greater than \n",
    "average price of homes in Kirkland."
   ]
  },
  {
   "cell_type": "markdown",
   "metadata": {},
   "source": [
    "If I investigate having normal distribution conditions:\n",
    "1) 187 homes were randomly choosen homes from both cities seperately.\n",
    "2) 187 homes for Kirkland is below 10% of total homes.(Independent)\n",
    "   (Appearently number of homes in Kirkland is near 22000)\n",
    "    same thing valid for Issaquah.187 homes is quite under \n",
    "    the total number of homes(10000) in it.\n",
    "3) Our sample is reasonably large 187>30(for both sample)\n",
    "\n",
    "I`d like to share steps to be taken for reaching correct estimation. \n",
    "First, I will set up Null and Alternative hypothesises,\n",
    "Let Misq,Mki be mean of sample means \n",
    "\n",
    "H0: Misq≤Mki ↔  Misq-Mki≤0\n",
    "H1: Misq>Mki ↔  Misq-Mki>0\n",
    "Significance level: α=0.05\n",
    "\n",
    "\n",
    "And then I will apply z formula:\n",
    "z = (Misq-Mki)/(np.sqrt(np.sum((Sisq**2)/(nisq**2)+(Ski**2)/(nki**2)))"
   ]
  },
  {
   "cell_type": "code",
   "execution_count": null,
   "metadata": {},
   "outputs": [],
   "source": [
    "Kirkland = house[house.city == 'Kirkland']\n",
    "round(np.mean(Kirkland['price']),2)"
   ]
  },
  {
   "cell_type": "code",
   "execution_count": null,
   "metadata": {},
   "outputs": [],
   "source": [
    "round(np.std(Kirkland['price']),2)"
   ]
  },
  {
   "cell_type": "code",
   "execution_count": null,
   "metadata": {},
   "outputs": [],
   "source": [
    "Issaquah = house[house.city == 'Issaquah']\n",
    "round(np.mean(Issaquah['price']),2)"
   ]
  },
  {
   "cell_type": "code",
   "execution_count": null,
   "metadata": {},
   "outputs": [],
   "source": [
    "round(np.std(Issaquah['price']),2)"
   ]
  },
  {
   "cell_type": "code",
   "execution_count": null,
   "metadata": {},
   "outputs": [],
   "source": [
    "#Let`s start finding with z in order to see whether it falls into area within 95% interval or not.\n",
    "z = (596163.75-651583.59)/np.sqrt(np.sum((245008.93**2/187)+(368857.02**2/187)))\n",
    "round(z,2)"
   ]
  },
  {
   "cell_type": "markdown",
   "metadata": {},
   "source": [
    "    Now it is time to check falling this z value into within 95% confidence interval or not.\n",
    "    For this reason, we need to figure our p value out.(significance level = 0.05)"
   ]
  },
  {
   "cell_type": "markdown",
   "metadata": {},
   "source": [
    "    p value of -1.71 on z table is 0.0436 which is smaller than significance level(0.05)\n",
    "    We will reject the Null Hypthohesis in favor of alternative hypothesis.\n",
    "        It means average price of Homes in Issaquah is not expensive than Kirkland.\n",
    "        In other words home prices in Kirkland is expensive than home prices in Issaquah."
   ]
  },
  {
   "cell_type": "code",
   "execution_count": 92,
   "metadata": {
    "scrolled": false
   },
   "outputs": [
    {
     "data": {
      "image/png": "[encoded data removed]",
      "text/plain": [
       "<Figure size 432x288 with 1 Axes>"
      ]
     },
     "metadata": {
      "needs_background": "light"
     },
     "output_type": "display_data"
    }
   ],
   "source": [
    "seed(47)\n",
    "a = np.random.normal((596163.75-651583.59)/10000,np.sqrt(((368857.02)**2/187)+(245008.93)**2/187)/10000,187)\n",
    "_ = plt.hist(a,bins = 20,rwidth = 0.85)\n",
    "_ = plt.xlabel('(Price in $ 10k)')\n",
    "_ = plt.ylabel('Frequency')\n",
    "_ = plt.title('Price Differences Between Issaquah and Kirkland')\n",
    "plt.show()"
   ]
  },
  {
   "cell_type": "markdown",
   "metadata": {},
   "source": [
    "###   RESULT"
   ]
  },
  {
   "cell_type": "markdown",
   "metadata": {},
   "source": [
    "As you see on the graph, major data gathered below 0 that mean of home prices in Issaquah is lower than mean of home prices in Kirkland."
   ]
  },
  {
   "cell_type": "markdown",
   "metadata": {},
   "source": [
    "# 3)  BAYES THEOREM"
   ]
  },
  {
   "cell_type": "markdown",
   "metadata": {},
   "source": [
    "    Wederson Family moves from California to Washington. \n",
    "    They search a home that has 2 bathrooms and 3 or 4 bedrooms in new area.\n",
    "    What is the probability of they rent a home with condition is not lower than 4(with Ms. Wederson`s demand) \n",
    "    of given opsions above?\n",
    "    (Solve by using Bayes Theorem) \n"
   ]
  },
  {
   "cell_type": "markdown",
   "metadata": {},
   "source": [
    "X: probability of homes with 3 or 4 bedrooms and 2 bathrooms\n",
    "Y: probability of homes with not 3 or 4 bedrooms and not 2 bathrooms\n",
    "A: probability of condition greater than or equal to 4 \n",
    "B: probability of condition less than to 4 "
   ]
  },
  {
   "cell_type": "markdown",
   "metadata": {},
   "source": [
    "    Mr Wederson is searching among the homes that have 3 or 4 bedrooms and 2 bathrooms.(X)\n",
    "    Of those homes,with his wife`s request, he will try \n",
    "    to find out a home condition is greater than or equal to 4.(A)\n",
    "    statistically,he is seeking P(A/X)\n",
    "\n",
    "        P(A|X)=(P(X|A)*P(A))/P(X)    (BAYES T.)"
   ]
  },
  {
   "cell_type": "markdown",
   "metadata": {},
   "source": [
    "Question: How many homes with 3 or 4 bedrooms and 2 bathrooms are there?"
   ]
  },
  {
   "cell_type": "code",
   "execution_count": 65,
   "metadata": {},
   "outputs": [
    {
     "name": "stdout",
     "output_type": "stream",
     "text": [
      "P(X):355/4600\n"
     ]
    }
   ],
   "source": [
    "x = house[((house.bedrooms==3)|(house.bedrooms==4))&(house.bathrooms==2)]\n",
    "\n",
    "print('P(X):{}{}{}'.format(len(x),'/',4600))"
   ]
  },
  {
   "cell_type": "markdown",
   "metadata": {},
   "source": [
    "Question: How many home conditions does have greater than or equal to 4?"
   ]
  },
  {
   "cell_type": "code",
   "execution_count": 67,
   "metadata": {},
   "outputs": [
    {
     "name": "stdout",
     "output_type": "stream",
     "text": [
      "P(A):1687/4600\n"
     ]
    }
   ],
   "source": [
    "up_4 = house[house.condition>=4]\n",
    "\n",
    "print('P(A):{}{}{}'.format(len(up_4),'/',4600))"
   ]
  },
  {
   "cell_type": "code",
   "execution_count": 75,
   "metadata": {
    "scrolled": true
   },
   "outputs": [
    {
     "name": "stdout",
     "output_type": "stream",
     "text": [
      "P(A|X):177/355\n"
     ]
    }
   ],
   "source": [
    "#Let`s find out of up_4 how many homes are there with 3 or 4 bedrooms and 2 bathrooms.\n",
    "#P(X|A)=?\n",
    "t = len(up_4[((up_4.bedrooms==3)|(up_4.bedrooms==4)) & (up_4.bathrooms==2)])\n",
    "print('P(A|X):{}{}{}'.format(t,'/',355))"
   ]
  },
  {
   "cell_type": "markdown",
   "metadata": {},
   "source": [
    "    Now, I am plug in values into Bayes formula\n",
    "    \n",
    "    P(X|A)=(P(A|X)*P(X))/P(A)    (BAYES T.)"
   ]
  },
  {
   "cell_type": "code",
   "execution_count": 74,
   "metadata": {},
   "outputs": [
    {
     "data": {
      "text/plain": [
       "10.49199762892709"
      ]
     },
     "execution_count": 74,
     "metadata": {},
     "output_type": "execute_result"
    }
   ],
   "source": [
    "(((177/355)*(355/4600))/(1687/4600))*100"
   ]
  },
  {
   "cell_type": "markdown",
   "metadata": {},
   "source": [
    "# Result"
   ]
  },
  {
   "cell_type": "markdown",
   "metadata": {},
   "source": [
    "    Probability of Wederson Family choosing homes they wish is 10.49%.\n",
    "    They seem unlucky but thank to today`s technology and they easily can access or find \n",
    "    those homes by filtering method in any home selling websites."
   ]
  }
 ],
 "metadata": {
  "kernelspec": {
   "display_name": "Python 3",
   "language": "python",
   "name": "python3"
  },
  "language_info": {
   "codemirror_mode": {
    "name": "ipython",
    "version": 3
   },
   "file_extension": ".py",
   "mimetype": "text/x-python",
   "name": "python",
   "nbconvert_exporter": "python",
   "pygments_lexer": "ipython3",
   "version": "3.7.1"
  }
 },
 "nbformat": 4,
 "nbformat_minor": 2
}
